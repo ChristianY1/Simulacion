{
 "cells": [
  {
   "cell_type": "markdown",
   "id": "76ffdcec",
   "metadata": {},
   "source": [
    "<h1>Total de personas empleadas y desempleadas por año</h1>"
   ]
  },
  {
   "cell_type": "code",
   "execution_count": 332,
   "id": "6d7f2c4f",
   "metadata": {},
   "outputs": [
    {
     "data": {
      "text/html": [
       "<div>\n",
       "<style scoped>\n",
       "    .dataframe tbody tr th:only-of-type {\n",
       "        vertical-align: middle;\n",
       "    }\n",
       "\n",
       "    .dataframe tbody tr th {\n",
       "        vertical-align: top;\n",
       "    }\n",
       "\n",
       "    .dataframe thead th {\n",
       "        text-align: right;\n",
       "    }\n",
       "</style>\n",
       "<table border=\"1\" class=\"dataframe\">\n",
       "  <thead>\n",
       "    <tr style=\"text-align: right;\">\n",
       "      <th></th>\n",
       "      <th>Encuesta</th>\n",
       "      <th>Periodo</th>\n",
       "      <th>CPEA</th>\n",
       "      <th>Total</th>\n",
       "      <th>Urbana</th>\n",
       "      <th>Rural</th>\n",
       "      <th>Hombre</th>\n",
       "      <th>Mujer</th>\n",
       "    </tr>\n",
       "  </thead>\n",
       "  <tbody>\n",
       "    <tr>\n",
       "      <th>0</th>\n",
       "      <td>ENEMDU</td>\n",
       "      <td>12/01/2007</td>\n",
       "      <td>Población Total</td>\n",
       "      <td>13682302</td>\n",
       "      <td>9066209</td>\n",
       "      <td>4616093</td>\n",
       "      <td>6768646</td>\n",
       "      <td>6913656</td>\n",
       "    </tr>\n",
       "    <tr>\n",
       "      <th>1</th>\n",
       "      <td>ENEMDU</td>\n",
       "      <td>12/01/2007</td>\n",
       "      <td>Población menor de 15 años</td>\n",
       "      <td>4372812</td>\n",
       "      <td>2723124</td>\n",
       "      <td>1649688</td>\n",
       "      <td>2226618</td>\n",
       "      <td>2146194</td>\n",
       "    </tr>\n",
       "    <tr>\n",
       "      <th>2</th>\n",
       "      <td>ENEMDU</td>\n",
       "      <td>12/01/2007</td>\n",
       "      <td>Población en Edad de Trabajar (PET)</td>\n",
       "      <td>9309490</td>\n",
       "      <td>6343085</td>\n",
       "      <td>2966404</td>\n",
       "      <td>4542028</td>\n",
       "      <td>4767462</td>\n",
       "    </tr>\n",
       "    <tr>\n",
       "      <th>3</th>\n",
       "      <td>ENEMDU</td>\n",
       "      <td>12/01/2007</td>\n",
       "      <td>Población Económicamente Activa</td>\n",
       "      <td>6336029</td>\n",
       "      <td>4227702</td>\n",
       "      <td>2108328</td>\n",
       "      <td>3777232</td>\n",
       "      <td>2558798</td>\n",
       "    </tr>\n",
       "    <tr>\n",
       "      <th>4</th>\n",
       "      <td>ENEMDU</td>\n",
       "      <td>12/01/2007</td>\n",
       "      <td>Empleo</td>\n",
       "      <td>6019332</td>\n",
       "      <td>3971040</td>\n",
       "      <td>2048292</td>\n",
       "      <td>3632314</td>\n",
       "      <td>2387018</td>\n",
       "    </tr>\n",
       "    <tr>\n",
       "      <th>5</th>\n",
       "      <td>ENEMDU</td>\n",
       "      <td>12/01/2007</td>\n",
       "      <td>Empleo Adecuado/Pleno</td>\n",
       "      <td>2737158</td>\n",
       "      <td>2236440</td>\n",
       "      <td>500719</td>\n",
       "      <td>1907451</td>\n",
       "      <td>829707</td>\n",
       "    </tr>\n",
       "    <tr>\n",
       "      <th>6</th>\n",
       "      <td>ENEMDU</td>\n",
       "      <td>12/01/2007</td>\n",
       "      <td>Subempleo</td>\n",
       "      <td>1155872</td>\n",
       "      <td>687714</td>\n",
       "      <td>468158</td>\n",
       "      <td>679118</td>\n",
       "      <td>476753</td>\n",
       "    </tr>\n",
       "    <tr>\n",
       "      <th>7</th>\n",
       "      <td>ENEMDU</td>\n",
       "      <td>12/01/2007</td>\n",
       "      <td>Subempleo por insuficiencia de tiempo de trabajo</td>\n",
       "      <td>860315</td>\n",
       "      <td>519627</td>\n",
       "      <td>340688</td>\n",
       "      <td>474355</td>\n",
       "      <td>385960</td>\n",
       "    </tr>\n",
       "    <tr>\n",
       "      <th>8</th>\n",
       "      <td>ENEMDU</td>\n",
       "      <td>12/01/2007</td>\n",
       "      <td>Subempleo por insuficiencia de ingresos</td>\n",
       "      <td>295556</td>\n",
       "      <td>168087</td>\n",
       "      <td>127470</td>\n",
       "      <td>204763</td>\n",
       "      <td>90793</td>\n",
       "    </tr>\n",
       "    <tr>\n",
       "      <th>9</th>\n",
       "      <td>ENEMDU</td>\n",
       "      <td>12/01/2007</td>\n",
       "      <td>Empleo no remunerado</td>\n",
       "      <td>557146</td>\n",
       "      <td>215994</td>\n",
       "      <td>341152</td>\n",
       "      <td>176122</td>\n",
       "      <td>381025</td>\n",
       "    </tr>\n",
       "    <tr>\n",
       "      <th>10</th>\n",
       "      <td>ENEMDU</td>\n",
       "      <td>12/01/2007</td>\n",
       "      <td>Otro Empleo no pleno</td>\n",
       "      <td>1504000</td>\n",
       "      <td>785461</td>\n",
       "      <td>718539</td>\n",
       "      <td>830341</td>\n",
       "      <td>673659</td>\n",
       "    </tr>\n",
       "    <tr>\n",
       "      <th>11</th>\n",
       "      <td>ENEMDU</td>\n",
       "      <td>12/01/2007</td>\n",
       "      <td>Empleo no clasificado</td>\n",
       "      <td>65155</td>\n",
       "      <td>45430</td>\n",
       "      <td>19725</td>\n",
       "      <td>39282</td>\n",
       "      <td>25873</td>\n",
       "    </tr>\n",
       "    <tr>\n",
       "      <th>12</th>\n",
       "      <td>ENEMDU</td>\n",
       "      <td>12/01/2007</td>\n",
       "      <td>Desempleo</td>\n",
       "      <td>316697</td>\n",
       "      <td>256662</td>\n",
       "      <td>60036</td>\n",
       "      <td>144918</td>\n",
       "      <td>171780</td>\n",
       "    </tr>\n",
       "    <tr>\n",
       "      <th>13</th>\n",
       "      <td>ENEMDU</td>\n",
       "      <td>12/01/2007</td>\n",
       "      <td>Desempleo Abierto</td>\n",
       "      <td>193225</td>\n",
       "      <td>168728</td>\n",
       "      <td>24497</td>\n",
       "      <td>97565</td>\n",
       "      <td>95660</td>\n",
       "    </tr>\n",
       "  </tbody>\n",
       "</table>\n",
       "</div>"
      ],
      "text/plain": [
       "   Encuesta     Periodo                                              CPEA  \\\n",
       "0    ENEMDU  12/01/2007                                   Población Total   \n",
       "1    ENEMDU  12/01/2007                        Población menor de 15 años   \n",
       "2    ENEMDU  12/01/2007               Población en Edad de Trabajar (PET)   \n",
       "3    ENEMDU  12/01/2007                   Población Económicamente Activa   \n",
       "4    ENEMDU  12/01/2007                                            Empleo   \n",
       "5    ENEMDU  12/01/2007                             Empleo Adecuado/Pleno   \n",
       "6    ENEMDU  12/01/2007                                         Subempleo   \n",
       "7    ENEMDU  12/01/2007  Subempleo por insuficiencia de tiempo de trabajo   \n",
       "8    ENEMDU  12/01/2007           Subempleo por insuficiencia de ingresos   \n",
       "9    ENEMDU  12/01/2007                              Empleo no remunerado   \n",
       "10   ENEMDU  12/01/2007                              Otro Empleo no pleno   \n",
       "11   ENEMDU  12/01/2007                             Empleo no clasificado   \n",
       "12   ENEMDU  12/01/2007                                         Desempleo   \n",
       "13   ENEMDU  12/01/2007                                 Desempleo Abierto   \n",
       "\n",
       "       Total   Urbana    Rural   Hombre    Mujer  \n",
       "0   13682302  9066209  4616093  6768646  6913656  \n",
       "1    4372812  2723124  1649688  2226618  2146194  \n",
       "2    9309490  6343085  2966404  4542028  4767462  \n",
       "3    6336029  4227702  2108328  3777232  2558798  \n",
       "4    6019332  3971040  2048292  3632314  2387018  \n",
       "5    2737158  2236440   500719  1907451   829707  \n",
       "6    1155872   687714   468158   679118   476753  \n",
       "7     860315   519627   340688   474355   385960  \n",
       "8     295556   168087   127470   204763    90793  \n",
       "9     557146   215994   341152   176122   381025  \n",
       "10   1504000   785461   718539   830341   673659  \n",
       "11     65155    45430    19725    39282    25873  \n",
       "12    316697   256662    60036   144918   171780  \n",
       "13    193225   168728    24497    97565    95660  "
      ]
     },
     "execution_count": 332,
     "metadata": {},
     "output_type": "execute_result"
    }
   ],
   "source": [
    "import pandas as pd\n",
    "import datetime\n",
    "import matplotlib.pyplot as plt\n",
    "import numpy as np\n",
    "\n",
    "#, encoding='latin1'\n",
    "data = pd.read_csv('poblaciones2.csv', skiprows=2, low_memory=False, encoding='latin1')\n",
    "data2 = data.rename(columns = {'Unnamed: 0': 'Encuesta', 'Unnamed: 1':'Periodo', 'Unnamed: 2':'CPEA'}, inplace = False)\n",
    "data2.head(14)"
   ]
  },
  {
   "cell_type": "code",
   "execution_count": 274,
   "id": "fe31f0a6",
   "metadata": {},
   "outputs": [
    {
     "data": {
      "text/html": [
       "<div>\n",
       "<style scoped>\n",
       "    .dataframe tbody tr th:only-of-type {\n",
       "        vertical-align: middle;\n",
       "    }\n",
       "\n",
       "    .dataframe tbody tr th {\n",
       "        vertical-align: top;\n",
       "    }\n",
       "\n",
       "    .dataframe thead th {\n",
       "        text-align: right;\n",
       "    }\n",
       "</style>\n",
       "<table border=\"1\" class=\"dataframe\">\n",
       "  <thead>\n",
       "    <tr style=\"text-align: right;\">\n",
       "      <th></th>\n",
       "      <th>Encuesta</th>\n",
       "      <th>Periodo</th>\n",
       "      <th>CPEA</th>\n",
       "      <th>Total</th>\n",
       "      <th>Urbana</th>\n",
       "      <th>Rural</th>\n",
       "      <th>Hombre</th>\n",
       "      <th>Mujer</th>\n",
       "    </tr>\n",
       "  </thead>\n",
       "  <tbody>\n",
       "    <tr>\n",
       "      <th>0</th>\n",
       "      <td>ENEMDU</td>\n",
       "      <td>12/01/2007</td>\n",
       "      <td>Población Total</td>\n",
       "      <td>13682302</td>\n",
       "      <td>9066209</td>\n",
       "      <td>4616093</td>\n",
       "      <td>6768646</td>\n",
       "      <td>6913656</td>\n",
       "    </tr>\n",
       "    <tr>\n",
       "      <th>1</th>\n",
       "      <td>ENEMDU</td>\n",
       "      <td>12/01/2007</td>\n",
       "      <td>Población menor de 15 años</td>\n",
       "      <td>4372812</td>\n",
       "      <td>2723124</td>\n",
       "      <td>1649688</td>\n",
       "      <td>2226618</td>\n",
       "      <td>2146194</td>\n",
       "    </tr>\n",
       "    <tr>\n",
       "      <th>2</th>\n",
       "      <td>ENEMDU</td>\n",
       "      <td>12/01/2007</td>\n",
       "      <td>Población en Edad de Trabajar (PET)</td>\n",
       "      <td>9309490</td>\n",
       "      <td>6343085</td>\n",
       "      <td>2966404</td>\n",
       "      <td>4542028</td>\n",
       "      <td>4767462</td>\n",
       "    </tr>\n",
       "    <tr>\n",
       "      <th>3</th>\n",
       "      <td>ENEMDU</td>\n",
       "      <td>12/01/2007</td>\n",
       "      <td>Población Económicamente Activa</td>\n",
       "      <td>6336029</td>\n",
       "      <td>4227702</td>\n",
       "      <td>2108328</td>\n",
       "      <td>3777232</td>\n",
       "      <td>2558798</td>\n",
       "    </tr>\n",
       "    <tr>\n",
       "      <th>4</th>\n",
       "      <td>ENEMDU</td>\n",
       "      <td>12/01/2007</td>\n",
       "      <td>Empleo</td>\n",
       "      <td>6019332</td>\n",
       "      <td>3971040</td>\n",
       "      <td>2048292</td>\n",
       "      <td>3632314</td>\n",
       "      <td>2387018</td>\n",
       "    </tr>\n",
       "    <tr>\n",
       "      <th>...</th>\n",
       "      <td>...</td>\n",
       "      <td>...</td>\n",
       "      <td>...</td>\n",
       "      <td>...</td>\n",
       "      <td>...</td>\n",
       "      <td>...</td>\n",
       "      <td>...</td>\n",
       "      <td>...</td>\n",
       "    </tr>\n",
       "    <tr>\n",
       "      <th>895</th>\n",
       "      <td>ENEMDU*</td>\n",
       "      <td>10/01/2021</td>\n",
       "      <td>Desempleo Abierto</td>\n",
       "      <td>336101</td>\n",
       "      <td>291606</td>\n",
       "      <td>44495</td>\n",
       "      <td>150276</td>\n",
       "      <td>185824</td>\n",
       "    </tr>\n",
       "    <tr>\n",
       "      <th>896</th>\n",
       "      <td>ENEMDU*</td>\n",
       "      <td>10/01/2021</td>\n",
       "      <td>Desempleo Oculto</td>\n",
       "      <td>48103</td>\n",
       "      <td>27600</td>\n",
       "      <td>20503</td>\n",
       "      <td>25975</td>\n",
       "      <td>22128</td>\n",
       "    </tr>\n",
       "    <tr>\n",
       "      <th>897</th>\n",
       "      <td>ENEMDU*</td>\n",
       "      <td>10/01/2021</td>\n",
       "      <td>Desempleo Cesante</td>\n",
       "      <td>298846</td>\n",
       "      <td>257856</td>\n",
       "      <td>40991</td>\n",
       "      <td>140223</td>\n",
       "      <td>158623</td>\n",
       "    </tr>\n",
       "    <tr>\n",
       "      <th>898</th>\n",
       "      <td>ENEMDU*</td>\n",
       "      <td>10/01/2021</td>\n",
       "      <td>Desempleo Nuevo</td>\n",
       "      <td>85358</td>\n",
       "      <td>61351</td>\n",
       "      <td>24007</td>\n",
       "      <td>36028</td>\n",
       "      <td>49330</td>\n",
       "    </tr>\n",
       "    <tr>\n",
       "      <th>899</th>\n",
       "      <td>ENEMDU*</td>\n",
       "      <td>10/01/2021</td>\n",
       "      <td>Población Económicamente Inactiva</td>\n",
       "      <td>4330241</td>\n",
       "      <td>3307420</td>\n",
       "      <td>1022821</td>\n",
       "      <td>1324745</td>\n",
       "      <td>3005495</td>\n",
       "    </tr>\n",
       "  </tbody>\n",
       "</table>\n",
       "<p>900 rows × 8 columns</p>\n",
       "</div>"
      ],
      "text/plain": [
       "    Encuesta     Periodo                                 CPEA     Total  \\\n",
       "0     ENEMDU  12/01/2007                      Población Total  13682302   \n",
       "1     ENEMDU  12/01/2007           Población menor de 15 años   4372812   \n",
       "2     ENEMDU  12/01/2007  Población en Edad de Trabajar (PET)   9309490   \n",
       "3     ENEMDU  12/01/2007      Población Económicamente Activa   6336029   \n",
       "4     ENEMDU  12/01/2007                               Empleo   6019332   \n",
       "..       ...         ...                                  ...       ...   \n",
       "895  ENEMDU*  10/01/2021                    Desempleo Abierto    336101   \n",
       "896  ENEMDU*  10/01/2021                     Desempleo Oculto     48103   \n",
       "897  ENEMDU*  10/01/2021                    Desempleo Cesante    298846   \n",
       "898  ENEMDU*  10/01/2021                      Desempleo Nuevo     85358   \n",
       "899  ENEMDU*  10/01/2021    Población Económicamente Inactiva   4330241   \n",
       "\n",
       "      Urbana    Rural   Hombre    Mujer  \n",
       "0    9066209  4616093  6768646  6913656  \n",
       "1    2723124  1649688  2226618  2146194  \n",
       "2    6343085  2966404  4542028  4767462  \n",
       "3    4227702  2108328  3777232  2558798  \n",
       "4    3971040  2048292  3632314  2387018  \n",
       "..       ...      ...      ...      ...  \n",
       "895   291606    44495   150276   185824  \n",
       "896    27600    20503    25975    22128  \n",
       "897   257856    40991   140223   158623  \n",
       "898    61351    24007    36028    49330  \n",
       "899  3307420  1022821  1324745  3005495  \n",
       "\n",
       "[900 rows x 8 columns]"
      ]
     },
     "execution_count": 274,
     "metadata": {},
     "output_type": "execute_result"
    }
   ],
   "source": [
    "data2"
   ]
  },
  {
   "cell_type": "code",
   "execution_count": 2,
   "id": "7e59a58f",
   "metadata": {},
   "outputs": [],
   "source": [
    "%%capture\n",
    "empleados = data2.loc[:, 'CPEA'] == 'Empleo'\n",
    "dataEmpleados = data2.loc[empleados]\n",
    "dataEmpleados.loc[:, ['Periodo','Total']]\n"
   ]
  },
  {
   "cell_type": "code",
   "execution_count": 3,
   "id": "acf9e7a4",
   "metadata": {},
   "outputs": [],
   "source": [
    "%%capture\n",
    "desempleados = data2.loc[:, 'CPEA'] == 'Desempleo'\n",
    "dataDesempleados = data2.loc[desempleados]\n",
    "dataDesempleados.loc[:, ['Periodo','Total']]"
   ]
  },
  {
   "cell_type": "code",
   "execution_count": 4,
   "id": "a5fa27ad",
   "metadata": {},
   "outputs": [],
   "source": [
    "anios = []\n",
    "for i in range(2007,2022):\n",
    "    anios.append(i)\n",
    "\n",
    "np.shape(anios)\n",
    "names = anios"
   ]
  },
  {
   "cell_type": "markdown",
   "id": "2436a585",
   "metadata": {},
   "source": [
    "<h2>Datos anuales del empleo a nivel nacional</h2>"
   ]
  },
  {
   "cell_type": "code",
   "execution_count": 5,
   "id": "71cc2cae",
   "metadata": {},
   "outputs": [],
   "source": [
    "df2 = dataEmpleados.loc[:, ['Periodo','Total']]\n",
    "df2['Periodo'] = pd.to_datetime(df2['Periodo'])\n",
    "dfNew2 = df2.groupby(pd.Grouper(key='Periodo', freq='1Y')).mean()\n",
    "dfNew2['Total'] = dfNew2.Total.round()\n",
    "dfNew2['Total'] = dfNew2.Total.astype(int)\n",
    "dfNew2.to_csv('Desempleados.csv', sep=',')\n",
    "data1 = pd.read_csv('Desempleados.csv', skiprows=0, low_memory=False)\n",
    "#data1"
   ]
  },
  {
   "cell_type": "code",
   "execution_count": 6,
   "id": "fdb027b7",
   "metadata": {},
   "outputs": [
    {
     "data": {
      "image/png": "[encoded data removed]",
      "text/plain": [
       "<Figure size 432x288 with 1 Axes>"
      ]
     },
     "metadata": {
      "needs_background": "light"
     },
     "output_type": "display_data"
    }
   ],
   "source": [
    "fig, ax = plt.subplots()\n",
    "ax.bar(names,data1['Total'])\n",
    "ax.ticklabel_format(style='plain') \n",
    "plt.xlabel(\"Anios\")\n",
    "plt.ylabel(\"Numero de habitantes\")\n",
    "plt.title(\"Total de personas Empleadas  por anio\", pad = 20)\n",
    "plt.show()\n",
    "\n"
   ]
  },
  {
   "cell_type": "markdown",
   "id": "fa936804",
   "metadata": {},
   "source": [
    "<h2>Datos anaules del desempleo a nivel nacional</h2>"
   ]
  },
  {
   "cell_type": "code",
   "execution_count": 7,
   "id": "750f7ecb",
   "metadata": {},
   "outputs": [],
   "source": [
    "df = dataDesempleados.loc[:, ['Periodo','Total']]\n",
    "df['Periodo'] = pd.to_datetime(df['Periodo'])\n",
    "dfNew = df.groupby(pd.Grouper(key='Periodo', freq='1Y')).mean()\n",
    "dfNew['Total'] = dfNew.Total.round()\n",
    "dfNew['Total'] = dfNew.Total.astype(int)\n",
    "dfNew.to_csv('Desempleados.csv', sep=',')\n",
    "data2 = pd.read_csv('Desempleados.csv', skiprows=0, low_memory=False)\n",
    "#data2"
   ]
  },
  {
   "cell_type": "code",
   "execution_count": 8,
   "id": "78f7c8e2",
   "metadata": {},
   "outputs": [
    {
     "data": {
      "image/png": "[encoded data removed]",
      "text/plain": [
       "<Figure size 432x288 with 1 Axes>"
      ]
     },
     "metadata": {
      "needs_background": "light"
     },
     "output_type": "display_data"
    }
   ],
   "source": [
    "fig, ax = plt.subplots()\n",
    "ax.bar(names,data2['Total'])\n",
    "ax.ticklabel_format(style='plain') \n",
    "plt.xlabel(\"Anios\")\n",
    "plt.ylabel(\"Numero de habitantes\")\n",
    "plt.title(\"Total de personas desempleadas por anio\", pad = 20)\n",
    "plt.show()"
   ]
  },
  {
   "cell_type": "markdown",
   "id": "ef24f290",
   "metadata": {},
   "source": [
    "<h2>Gráfica comparativa de personas empleadas y esempleadas por año a nivel nacional</h2>"
   ]
  },
  {
   "cell_type": "code",
   "execution_count": 11,
   "id": "46172b06",
   "metadata": {},
   "outputs": [
    {
     "data": {
      "image/png": "[encoded data removed]",
      "text/plain": [
       "<Figure size 432x288 with 1 Axes>"
      ]
     },
     "metadata": {
      "needs_background": "light"
     },
     "output_type": "display_data"
    }
   ],
   "source": [
    "\n",
    "ax = plt.subplots()\n",
    "X_axis = np.arange(len(names))\n",
    "plt.bar(X_axis - 0.2,data2.Total,0.4, label = 'Desempleados')\n",
    "plt.bar(X_axis + 0.2,data1.Total,0.4, label = 'Empleados')\n",
    "plt.xticks(X_axis,names, rotation = 45)\n",
    "plt.xlabel(\"Anios\")\n",
    "plt.ylabel(\"Numero de habitantes\")\n",
    "plt.title(\"Total de personas empleados y desempleadas por anio\", pad = 20)\n",
    "plt.legend()\n",
    "plt.show()"
   ]
  },
  {
   "cell_type": "markdown",
   "id": "75dbddad",
   "metadata": {},
   "source": [
    "<h1>Sectorización del empleo</h1>"
   ]
  },
  {
   "cell_type": "code",
   "execution_count": 203,
   "id": "43d4ee40",
   "metadata": {},
   "outputs": [
    {
     "data": {
      "text/html": [
       "<div>\n",
       "<style scoped>\n",
       "    .dataframe tbody tr th:only-of-type {\n",
       "        vertical-align: middle;\n",
       "    }\n",
       "\n",
       "    .dataframe tbody tr th {\n",
       "        vertical-align: top;\n",
       "    }\n",
       "\n",
       "    .dataframe thead th {\n",
       "        text-align: right;\n",
       "    }\n",
       "</style>\n",
       "<table border=\"1\" class=\"dataframe\">\n",
       "  <thead>\n",
       "    <tr style=\"text-align: right;\">\n",
       "      <th></th>\n",
       "      <th>0</th>\n",
       "      <th>1</th>\n",
       "      <th>2</th>\n",
       "      <th>3</th>\n",
       "      <th>4</th>\n",
       "      <th>5</th>\n",
       "      <th>6</th>\n",
       "      <th>7</th>\n",
       "      <th>8</th>\n",
       "      <th>9</th>\n",
       "      <th>10</th>\n",
       "      <th>11</th>\n",
       "    </tr>\n",
       "  </thead>\n",
       "  <tbody>\n",
       "    <tr>\n",
       "      <th>Característica</th>\n",
       "      <td>Nacional</td>\n",
       "      <td>NaN</td>\n",
       "      <td>NaN</td>\n",
       "      <td>NaN</td>\n",
       "      <td>Urbano</td>\n",
       "      <td>NaN</td>\n",
       "      <td>NaN</td>\n",
       "      <td>NaN</td>\n",
       "      <td>Rural</td>\n",
       "      <td>NaN</td>\n",
       "      <td>NaN</td>\n",
       "      <td>NaN</td>\n",
       "    </tr>\n",
       "    <tr>\n",
       "      <th>Unnamed: 1</th>\n",
       "      <td>Sector Formal</td>\n",
       "      <td>Sector Informal</td>\n",
       "      <td>Empleo Doméstico</td>\n",
       "      <td>No Clasificados por Sector</td>\n",
       "      <td>Sector Formal</td>\n",
       "      <td>Sector Informal</td>\n",
       "      <td>Empleo Doméstico</td>\n",
       "      <td>No Clasificados por Sector</td>\n",
       "      <td>Sector Formal</td>\n",
       "      <td>Sector Informal</td>\n",
       "      <td>Empleo Doméstico</td>\n",
       "      <td>No Clasificados por Sector</td>\n",
       "    </tr>\n",
       "    <tr>\n",
       "      <th>06/01/2007</th>\n",
       "      <td>-</td>\n",
       "      <td>-</td>\n",
       "      <td>-</td>\n",
       "      <td>-</td>\n",
       "      <td>54.7</td>\n",
       "      <td>36.9</td>\n",
       "      <td>4</td>\n",
       "      <td>4.4</td>\n",
       "      <td>-</td>\n",
       "      <td>-</td>\n",
       "      <td>-</td>\n",
       "      <td>-</td>\n",
       "    </tr>\n",
       "    <tr>\n",
       "      <th>09/01/2007</th>\n",
       "      <td>-</td>\n",
       "      <td>-</td>\n",
       "      <td>-</td>\n",
       "      <td>-</td>\n",
       "      <td>55.7</td>\n",
       "      <td>36.1</td>\n",
       "      <td>4.1</td>\n",
       "      <td>4.1</td>\n",
       "      <td>-</td>\n",
       "      <td>-</td>\n",
       "      <td>-</td>\n",
       "      <td>-</td>\n",
       "    </tr>\n",
       "    <tr>\n",
       "      <th>12/01/2007</th>\n",
       "      <td>41.0</td>\n",
       "      <td>45.1</td>\n",
       "      <td>3.3</td>\n",
       "      <td>10.6</td>\n",
       "      <td>54.1</td>\n",
       "      <td>34.0</td>\n",
       "      <td>4.3</td>\n",
       "      <td>7.7</td>\n",
       "      <td>15.5</td>\n",
       "      <td>66.7</td>\n",
       "      <td>1.5</td>\n",
       "      <td>16.3</td>\n",
       "    </tr>\n",
       "    <tr>\n",
       "      <th>...</th>\n",
       "      <td>...</td>\n",
       "      <td>...</td>\n",
       "      <td>...</td>\n",
       "      <td>...</td>\n",
       "      <td>...</td>\n",
       "      <td>...</td>\n",
       "      <td>...</td>\n",
       "      <td>...</td>\n",
       "      <td>...</td>\n",
       "      <td>...</td>\n",
       "      <td>...</td>\n",
       "      <td>...</td>\n",
       "    </tr>\n",
       "    <tr>\n",
       "      <th>06/01/2021</th>\n",
       "      <td>42.3</td>\n",
       "      <td>49.9</td>\n",
       "      <td>2.0</td>\n",
       "      <td>5.8</td>\n",
       "      <td>52.5</td>\n",
       "      <td>38.8</td>\n",
       "      <td>2.3</td>\n",
       "      <td>6.3</td>\n",
       "      <td>23.1</td>\n",
       "      <td>70.8</td>\n",
       "      <td>1.3</td>\n",
       "      <td>4.8</td>\n",
       "    </tr>\n",
       "    <tr>\n",
       "      <th>07/01/2021</th>\n",
       "      <td>40.6</td>\n",
       "      <td>51.2</td>\n",
       "      <td>2.1</td>\n",
       "      <td>6.2</td>\n",
       "      <td>50.7</td>\n",
       "      <td>40.5</td>\n",
       "      <td>2.6</td>\n",
       "      <td>6.2</td>\n",
       "      <td>21.2</td>\n",
       "      <td>71.6</td>\n",
       "      <td>1.1</td>\n",
       "      <td>6.1</td>\n",
       "    </tr>\n",
       "    <tr>\n",
       "      <th>08/01/2021</th>\n",
       "      <td>41.2</td>\n",
       "      <td>50.6</td>\n",
       "      <td>2.4</td>\n",
       "      <td>5.8</td>\n",
       "      <td>52.1</td>\n",
       "      <td>39.6</td>\n",
       "      <td>3.1</td>\n",
       "      <td>5.3</td>\n",
       "      <td>21.0</td>\n",
       "      <td>71.2</td>\n",
       "      <td>1.0</td>\n",
       "      <td>6.7</td>\n",
       "    </tr>\n",
       "    <tr>\n",
       "      <th>09/01/2021</th>\n",
       "      <td>43.9</td>\n",
       "      <td>49.2</td>\n",
       "      <td>2.4</td>\n",
       "      <td>4.5</td>\n",
       "      <td>54.3</td>\n",
       "      <td>37.9</td>\n",
       "      <td>3.0</td>\n",
       "      <td>4.8</td>\n",
       "      <td>24.9</td>\n",
       "      <td>69.9</td>\n",
       "      <td>1.3</td>\n",
       "      <td>3.9</td>\n",
       "    </tr>\n",
       "    <tr>\n",
       "      <th>10/01/2021</th>\n",
       "      <td>41.4</td>\n",
       "      <td>52.2</td>\n",
       "      <td>2.2</td>\n",
       "      <td>4.2</td>\n",
       "      <td>52.5</td>\n",
       "      <td>40.2</td>\n",
       "      <td>2.8</td>\n",
       "      <td>4.4</td>\n",
       "      <td>20.4</td>\n",
       "      <td>74.8</td>\n",
       "      <td>0.9</td>\n",
       "      <td>3.9</td>\n",
       "    </tr>\n",
       "  </tbody>\n",
       "</table>\n",
       "<p>67 rows × 12 columns</p>\n",
       "</div>"
      ],
      "text/plain": [
       "                           0                1                 2   \\\n",
       "Característica       Nacional              NaN               NaN   \n",
       "Unnamed: 1      Sector Formal  Sector Informal  Empleo Doméstico   \n",
       "06/01/2007                  -                -                 -   \n",
       "09/01/2007                  -                -                 -   \n",
       "12/01/2007               41.0             45.1               3.3   \n",
       "...                       ...              ...               ...   \n",
       "06/01/2021               42.3             49.9               2.0   \n",
       "07/01/2021               40.6             51.2               2.1   \n",
       "08/01/2021               41.2             50.6               2.4   \n",
       "09/01/2021               43.9             49.2               2.4   \n",
       "10/01/2021               41.4             52.2               2.2   \n",
       "\n",
       "                                        3              4                5   \\\n",
       "Característica                         NaN         Urbano              NaN   \n",
       "Unnamed: 1      No Clasificados por Sector  Sector Formal  Sector Informal   \n",
       "06/01/2007                               -           54.7             36.9   \n",
       "09/01/2007                               -           55.7             36.1   \n",
       "12/01/2007                            10.6           54.1             34.0   \n",
       "...                                    ...            ...              ...   \n",
       "06/01/2021                             5.8           52.5             38.8   \n",
       "07/01/2021                             6.2           50.7             40.5   \n",
       "08/01/2021                             5.8           52.1             39.6   \n",
       "09/01/2021                             4.5           54.3             37.9   \n",
       "10/01/2021                             4.2           52.5             40.2   \n",
       "\n",
       "                              6                           7              8   \\\n",
       "Característica               NaN                         NaN          Rural   \n",
       "Unnamed: 1      Empleo Doméstico  No Clasificados por Sector  Sector Formal   \n",
       "06/01/2007                     4                         4.4              -   \n",
       "09/01/2007                   4.1                         4.1              -   \n",
       "12/01/2007                   4.3                         7.7           15.5   \n",
       "...                          ...                         ...            ...   \n",
       "06/01/2021                   2.3                         6.3           23.1   \n",
       "07/01/2021                   2.6                         6.2           21.2   \n",
       "08/01/2021                   3.1                         5.3           21.0   \n",
       "09/01/2021                   3.0                         4.8           24.9   \n",
       "10/01/2021                   2.8                         4.4           20.4   \n",
       "\n",
       "                             9                 10                          11  \n",
       "Característica              NaN               NaN                         NaN  \n",
       "Unnamed: 1      Sector Informal  Empleo Doméstico  No Clasificados por Sector  \n",
       "06/01/2007                    -                 -                           -  \n",
       "09/01/2007                    -                 -                           -  \n",
       "12/01/2007                 66.7               1.5                        16.3  \n",
       "...                         ...               ...                         ...  \n",
       "06/01/2021                 70.8               1.3                         4.8  \n",
       "07/01/2021                 71.6               1.1                         6.1  \n",
       "08/01/2021                 71.2               1.0                         6.7  \n",
       "09/01/2021                 69.9               1.3                         3.9  \n",
       "10/01/2021                 74.8               0.9                         3.9  \n",
       "\n",
       "[67 rows x 12 columns]"
      ]
     },
     "execution_count": 203,
     "metadata": {},
     "output_type": "execute_result"
    }
   ],
   "source": [
    "sectorizacionData = pd.read_csv('sectorizacion.csv', skiprows=1, low_memory=False, encoding='latin1')\n",
    "sectorizacionData = sectorizacionData.transpose()\n",
    "sectorizacionData "
   ]
  },
  {
   "cell_type": "code",
   "execution_count": 416,
   "id": "be110abf",
   "metadata": {},
   "outputs": [],
   "source": [
    "def repairData(data,nombre):\n",
    "    name = nombre + '.csv'\n",
    "    data.to_csv(name,sep=',')\n",
    "    df = pd.read_csv(name, skiprows=2, low_memory=False)\n",
    "    df = df.drop(df[df['Sector Formal']=='-'].index)\n",
    "    df= df.rename(columns = {'Unnamed: 1':'Fecha'})\n",
    "    return df\n",
    "\n",
    "\n",
    "def agrupar(data):\n",
    "    data['Sector Formal'] = data['Sector Formal'].astype(float)\n",
    "    data['Sector Informal'] = data['Sector Informal'].astype(float)\n",
    "    data['Empleo Doméstico'] = data['Empleo Doméstico'].astype(float)\n",
    "    data['No Clasificados por Sector'] = data['No Clasificados por Sector'].astype(float)\n",
    "    data['Fecha'] = pd.to_datetime(data['Fecha'])\n",
    "    data2 = data.groupby(pd.Grouper(key='Fecha', freq='1Y')).mean()\n",
    "    return data2\n",
    "\n",
    "def reparar(data,nombre):\n",
    "    name = nombre + '.csv'\n",
    "    data.to_csv(name, sep=',')\n",
    "    df = pd.read_csv(name, skiprows=0, low_memory=False)\n",
    "    return df\n",
    "    \n",
    "\n",
    "def generarPie(data,titulo):\n",
    "    etiquetas = ['Sector Formal', 'Sector Informal', 'Empleo Doméstico','No Clasificados por Sector']\n",
    "    colores = ['#abcdef', '#aabbcc', '#babbac', '#babbca']\n",
    "    titulo2 = 'Grafica a nivel'+ titulo\n",
    "    plt.pie([data['Sector Formal'].sum(), data['Sector Informal'].sum(),\n",
    "             data['Empleo Doméstico'].sum(), data['No Clasificados por Sector'].sum()], labels=etiquetas, colors=colores, autopct='%.2f %%')\n",
    "    plt.title(titulo2)\n",
    "    plt.show()\n",
    "    \n",
    "\n",
    "def getData(empleados,etiqueta):\n",
    "    empleados = data2.loc[:, 'CPEA'] == etiqueta\n",
    "    dataEmpleados = data2.loc[empleados]\n",
    "    data = dataEmpleados.loc[:, ['Periodo','Total']]\n",
    "    data['Periodo'] = pd.to_datetime(data['Periodo'])\n",
    "    data = data.groupby(pd.Grouper(key='Periodo', freq='1Y')).mean()\n",
    "    data['Total'] = data.Total.round()\n",
    "    data['Total'] = data.Total.astype(int)\n",
    "    return data\n",
    "\n",
    "\n",
    "def graficarHistograma(data,titulo):\n",
    "    fig, ax = plt.subplots()\n",
    "    ax.bar(names,data['Total'])\n",
    "    ax.ticklabel_format(style='plain') \n",
    "    plt.xlabel(\"Anios\")\n",
    "    plt.ylabel(\"Numero de habitantes\")\n",
    "    titulo3 = ' a nivel nacional'\n",
    "    titulo2 = 'Total de personas en' + titulo  + titulo3\n",
    "    plt.title(titulo2, pad = 20)\n",
    "    plt.show()\n",
    "\n",
    "    \n",
    "    \n",
    "    \n",
    "    "
   ]
  },
  {
   "cell_type": "code",
   "execution_count": 253,
   "id": "cbb541fe",
   "metadata": {},
   "outputs": [
    {
     "data": {
      "text/plain": [
       "array(['Fecha', 'Sector Formal', 'Sector Informal', 'Empleo Doméstico',\n",
       "       'No Clasificados por Sector'], dtype=object)"
      ]
     },
     "execution_count": 253,
     "metadata": {},
     "output_type": "execute_result"
    }
   ],
   "source": [
    "dataNacional.columns.values"
   ]
  },
  {
   "cell_type": "markdown",
   "id": "a9393da1",
   "metadata": {},
   "source": [
    "<h2>Nacional</h2>"
   ]
  },
  {
   "cell_type": "code",
   "execution_count": 267,
   "id": "9d0d59a8",
   "metadata": {},
   "outputs": [
    {
     "data": {
      "image/png": "[encoded data removed]",
      "text/plain": [
       "<Figure size 432x288 with 1 Axes>"
      ]
     },
     "metadata": {},
     "output_type": "display_data"
    }
   ],
   "source": [
    "dataNacional = sectorizacionData.iloc[:,0:4]\n",
    "dataNacional = repairData(dataNacional,'dataNacional')\n",
    "dataN = reparar(agrupar(dataNacional),'dataNacional')\n",
    "generarPie(dataN,' Nacional 2007-2021')"
   ]
  },
  {
   "cell_type": "markdown",
   "id": "0c3892dc",
   "metadata": {},
   "source": [
    "<h2>Urbano</h2>"
   ]
  },
  {
   "cell_type": "code",
   "execution_count": 266,
   "id": "57f49b93",
   "metadata": {},
   "outputs": [
    {
     "data": {
      "image/png": "[encoded data removed]",
      "text/plain": [
       "<Figure size 432x288 with 1 Axes>"
      ]
     },
     "metadata": {},
     "output_type": "display_data"
    }
   ],
   "source": [
    "dataUrbano = sectorizacionData.iloc[:,4:8]\n",
    "dataUrbano = repairData(dataUrbano,'dataUrbano')\n",
    "dataU = reparar(agrupar(dataUrbano),'dataUrbano')\n",
    "generarPie(dataN,' Urbano 2007-2021')"
   ]
  },
  {
   "cell_type": "markdown",
   "id": "bba04101",
   "metadata": {},
   "source": [
    "<h2>Rural</h2>"
   ]
  },
  {
   "cell_type": "code",
   "execution_count": 265,
   "id": "b2543500",
   "metadata": {},
   "outputs": [
    {
     "data": {
      "image/png": "[encoded data removed]",
      "text/plain": [
       "<Figure size 432x288 with 1 Axes>"
      ]
     },
     "metadata": {},
     "output_type": "display_data"
    }
   ],
   "source": [
    "dataRural = sectorizacionData.iloc[:,8:15]\n",
    "dataRural = repairData(dataRural,'dataRural')\n",
    "dataR = reparar(agrupar(dataRural),'dataRural')\n",
    "generarPie(dataR,' Rural 2007-2021')"
   ]
  },
  {
   "cell_type": "markdown",
   "id": "4783c2ab",
   "metadata": {},
   "source": [
    "<h1>Subempleo, empleo pleno y empleo no pleno por año</h1>"
   ]
  },
  {
   "cell_type": "markdown",
   "id": "07955809",
   "metadata": {},
   "source": [
    "<h2>Subempleo por año</h2>"
   ]
  },
  {
   "cell_type": "code",
   "execution_count": 417,
   "id": "d4135328",
   "metadata": {},
   "outputs": [
    {
     "data": {
      "image/png": "[encoded data removed]",
      "text/plain": [
       "<Figure size 432x288 with 1 Axes>"
      ]
     },
     "metadata": {
      "needs_background": "light"
     },
     "output_type": "display_data"
    }
   ],
   "source": [
    "subempleo = getData(data2,'Subempleo')\n",
    "graficarHistograma(subempleo,' Subempleo')\n",
    "\n"
   ]
  },
  {
   "cell_type": "markdown",
   "id": "248edb14",
   "metadata": {},
   "source": [
    "<h2>Empleo pleno por año</h2>"
   ]
  },
  {
   "cell_type": "code",
   "execution_count": 418,
   "id": "1cd342e8",
   "metadata": {},
   "outputs": [
    {
     "data": {
      "image/png": "[encoded data removed]",
      "text/plain": [
       "<Figure size 432x288 with 1 Axes>"
      ]
     },
     "metadata": {
      "needs_background": "light"
     },
     "output_type": "display_data"
    }
   ],
   "source": [
    "empleoPleno = getData(data2,'Empleo Adecuado/Pleno')\n",
    "graficarHistograma(empleoPleno,' Empleo Pleno')"
   ]
  },
  {
   "cell_type": "markdown",
   "id": "5fa21dce",
   "metadata": {},
   "source": [
    "<h2>Empleo no pleno por año</h2>"
   ]
  },
  {
   "cell_type": "code",
   "execution_count": 419,
   "id": "4104462f",
   "metadata": {},
   "outputs": [
    {
     "data": {
      "image/png": "[encoded data removed]",
      "text/plain": [
       "<Figure size 432x288 with 1 Axes>"
      ]
     },
     "metadata": {
      "needs_background": "light"
     },
     "output_type": "display_data"
    }
   ],
   "source": [
    "empleoNoPleno = getData(data2,'Otro Empleo no pleno')\n",
    "graficarHistograma(empleoNoPleno,' Empleo no pleno')"
   ]
  }
 ],
 "metadata": {
  "kernelspec": {
   "display_name": "Python 3 (ipykernel)",
   "language": "python",
   "name": "python3"
  },
  "language_info": {
   "codemirror_mode": {
    "name": "ipython",
    "version": 3
   },
   "file_extension": ".py",
   "mimetype": "text/x-python",
   "name": "python",
   "nbconvert_exporter": "python",
   "pygments_lexer": "ipython3",
   "version": "3.9.6"
  }
 },
 "nbformat": 4,
 "nbformat_minor": 5
}
