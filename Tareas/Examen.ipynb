{
 "cells": [
  {
   "cell_type": "code",
   "execution_count": 227,
   "id": "25bf80c2",
   "metadata": {},
   "outputs": [],
   "source": [
    "import random\n",
    "import math\n",
    "vector = []\n",
    "random.seed(12082021)\n",
    "for i in range(100):\n",
    "    vector.append(random.random())"
   ]
  },
  {
   "cell_type": "code",
   "execution_count": 188,
   "id": "d876c232",
   "metadata": {},
   "outputs": [],
   "source": [
    "def comprobacionChi(Oi):\n",
    "    Ei = 10\n",
    "    chi = ((Oi-Ei)**2)/Ei\n",
    "    return chi\n",
    "\n",
    "\n",
    "def sumarValores(vector):\n",
    "    suma = sum(vector)\n",
    "    return suma\n",
    "\n"
   ]
  },
  {
   "cell_type": "code",
   "execution_count": 228,
   "id": "1d81fee7",
   "metadata": {},
   "outputs": [
    {
     "name": "stdout",
     "output_type": "stream",
     "text": [
      "rangos  [3, 8, 12, 13, 8, 16, 10, 14, 7, 9]\n",
      "valores  [4.9, 0.4, 0.4, 0.9, 0.4, 3.6, 0.0, 1.6, 0.9, 0.1]\n",
      "suma  13.200000000000001\n"
     ]
    }
   ],
   "source": [
    "a = 0\n",
    "rango = []\n",
    "def generar(b, a):\n",
    "    b2 = b+0.1\n",
    "    for i in range(len(vector)):\n",
    "        if vector[i] <= b2 and vector[i] >= b:\n",
    "            a+=1\n",
    "    return a\n",
    "\n",
    "for i in range(0,10):\n",
    "    b = i*0.1\n",
    "    rango.append(generar(b,a))\n",
    "\n",
    "\n",
    "valores = []\n",
    "for i in range(0,10):\n",
    "    valores.append(comprobacionChi(rango[i]))\n",
    "    \n",
    "print(\"rangos \",rango)\n",
    "print(\"valores \",valores)\n",
    "print(\"suma \",sumarValores(valores))\n",
    "                   \n",
    "\n",
    "            \n",
    "       "
   ]
  },
  {
   "cell_type": "code",
   "execution_count": 229,
   "id": "0580946a",
   "metadata": {},
   "outputs": [
    {
     "data": {
      "image/png": "[encoded data removed]",
      "text/plain": [
       "<Figure size 432x288 with 1 Axes>"
      ]
     },
     "metadata": {
      "needs_background": "light"
     },
     "output_type": "display_data"
    }
   ],
   "source": [
    "import matplotlib.pyplot as plt\n",
    "import numpy as np\n",
    "\n",
    "x = np.arange(0,10)\n",
    "y = rango\n",
    "\n",
    "plt.bar(x,y)\n",
    "plt.xlabel('x')\n",
    "plt.ylabel('y')\n",
    "plt.title('Numeros Aleatorios')\n",
    "plt.show()\n"
   ]
  },
  {
   "cell_type": "code",
   "execution_count": 218,
   "id": "f3763768",
   "metadata": {},
   "outputs": [
    {
     "name": "stdout",
     "output_type": "stream",
     "text": [
      "Ingrese la semilla: 74731897457\n",
      "Ingrese el numero de digitos: 7\n",
      "Ingrese el numero de iteraciones: 100\n",
      "It. \t Xn \t Ui \t Rn\n",
      "0\t74731897457\t4975235\t0.4975235\n",
      "1\t4975235\t5296330\t0.529633\n",
      "2\t5296330\t5111146\t0.5111146\n",
      "3\t5111146\t2381343\t0.2381343\n",
      "4\t2381343\t794483\t0.0794483\n",
      "5\t794483\t1203237\t0.1203237\n",
      "6\t1203237\t7779278\t0.7779278\n",
      "7\t7779278\t1716620\t0.171662\n",
      "8\t1716620\t6784224\t0.6784224\n",
      "9\t6784224\t2569528\t0.2569528\n",
      "10\t2569528\t2474142\t0.2474142\n",
      "11\t2474142\t1378636\t0.1378636\n",
      "12\t1378636\t637220\t0.063722\n",
      "13\t637220\t6049328\t0.6049328\n",
      "14\t6049328\t9436925\t0.9436925\n",
      "15\t9436925\t5555345\t0.5555345\n",
      "16\t5555345\t6185806\t0.6185806\n",
      "17\t6185806\t6419586\t0.6419586\n",
      "18\t6419586\t1108441\t0.1108441\n",
      "19\t1108441\t8641450\t0.864145\n",
      "20\t8641450\t7465810\t0.746581\n",
      "21\t7465810\t3831895\t0.3831895\n",
      "22\t3831895\t8341929\t0.8341929\n",
      "23\t8341929\t8777944\t0.8777944\n",
      "24\t8777944\t5230086\t0.5230086\n",
      "25\t5230086\t5379956\t0.5379956\n",
      "26\t5379956\t4392656\t0.4392656\n",
      "27\t4392656\t9542673\t0.9542673\n",
      "28\t9542673\t6260798\t0.6260798\n",
      "29\t6260798\t9759159\t0.9759159\n",
      "30\t9759159\t4118438\t0.4118438\n",
      "31\t4118438\t6153155\t0.6153155\n",
      "32\t6153155\t6131645\t0.6131645\n",
      "33\t6131645\t9707040\t0.970704\n",
      "34\t9707040\t2662556\t0.2662556\n",
      "35\t2662556\t9204453\t0.9204453\n",
      "36\t9204453\t2195502\t0.2195502\n",
      "37\t2195502\t229032\t0.0229032\n",
      "38\t229032\t4556570\t0.455657\n",
      "39\t4556570\t6233016\t0.6233016\n",
      "40\t6233016\t5048845\t0.5048845\n",
      "41\t5048845\t9083583\t0.9083583\n",
      "42\t9083583\t1148011\t0.1148011\n",
      "43\t1148011\t7929256\t0.7929256\n",
      "44\t7929256\t7310071\t0.7310071\n",
      "45\t7310071\t3713802\t0.3713802\n",
      "46\t3713802\t9232529\t0.9232529\n",
      "47\t9232529\t3959173\t0.3959173\n",
      "48\t3959173\t7505084\t0.7505084\n",
      "49\t7505084\t2628584\t0.2628584\n",
      "50\t2628584\t9453845\t0.9453845\n",
      "51\t9453845\t7518528\t0.7518528\n",
      "52\t7518528\t2826328\t0.2826328\n",
      "53\t2826328\t8129963\t0.8129963\n",
      "54\t8129963\t9629838\t0.9629838\n",
      "55\t9629838\t3377990\t0.337799\n",
      "56\t3377990\t1081644\t0.1081644\n",
      "57\t1081644\t9953742\t0.9953742\n",
      "58\t9953742\t7697980\t0.769798\n",
      "59\t7697980\t5889608\t0.5889608\n",
      "60\t5889608\t8748239\t0.8748239\n",
      "61\t8748239\t3168560\t0.316856\n",
      "62\t3168560\t3977247\t0.3977247\n",
      "63\t3977247\t1849369\t0.1849369\n",
      "64\t1849369\t165698\t0.0165698\n",
      "65\t165698\t4558272\t0.4558272\n",
      "66\t4558272\t7784362\t0.7784362\n",
      "67\t7784362\t9629174\t0.9629174\n",
      "68\t9629174\t2099192\t0.2099192\n",
      "69\t2099192\t6607052\t0.6607052\n",
      "70\t6607052\t5313613\t0.5313613\n",
      "71\t5313613\t3448311\t0.3448311\n",
      "72\t3448311\t9084875\t0.9084875\n",
      "73\t9084875\t3495376\t0.3495376\n",
      "74\t3495376\t1765338\t0.1765338\n",
      "75\t1765338\t6418254\t0.6418254\n",
      "76\t6418254\t9398440\t0.939844\n",
      "77\t9398440\t3067443\t0.3067443\n",
      "78\t3067443\t9206558\t0.9206558\n",
      "79\t9206558\t6071020\t0.607102\n",
      "80\t6071020\t5728384\t0.5728384\n",
      "81\t5728384\t1438325\t0.1438325\n",
      "82\t1438325\t8778805\t0.8778805\n",
      "83\t8778805\t6741722\t0.6741722\n",
      "84\t6741722\t5081552\t0.5081552\n",
      "85\t5081552\t2217072\t0.2217072\n",
      "86\t2217072\t5408253\t0.5408253\n",
      "87\t5408253\t4920051\t0.4920051\n",
      "88\t4920051\t690184\t0.0690184\n",
      "89\t690184\t6353953\t0.6353953\n",
      "90\t6353953\t7271872\t0.7271872\n",
      "91\t7271872\t8012238\t0.8012238\n",
      "92\t8012238\t9595776\t0.9595776\n",
      "93\t9595776\t7891704\t0.7891704\n",
      "94\t7891704\t7899202\t0.7899202\n",
      "95\t7899202\t9739223\t0.9739223\n",
      "96\t9739223\t5246464\t0.5246464\n",
      "97\t5246464\t2538450\t0.253845\n",
      "98\t2538450\t3728402\t0.3728402\n",
      "99\t3728402\t98147\t0.0098147\n"
     ]
    }
   ],
   "source": [
    "vector = []\n",
    "xo = int(input(\"Ingrese la semilla: \"))\n",
    "digitos = int(input(\"Ingrese el numero de digitos: \"))\n",
    "iteraciones = int(input(\"Ingrese el numero de iteraciones: \"))\n",
    "xn = xo\n",
    "print(\"It. \\t Xn \\t Ui \\t Rn\")\n",
    "for i in range(iteraciones):\n",
    "  xnn = xn**2\n",
    "  txnn = str(xnn).zfill(8)\n",
    "  tam = len(txnn)\n",
    "  ui = int(txnn[int(tam/2-digitos/2):int(tam/2+digitos/2)])\n",
    "  rn = ui / (int('9'*digitos)+1)\n",
    "  vector.append(rn)\n",
    "  print(str(i) + \"\\t\" + str(xn) + \"\\t\"+ str(ui)+\"\\t\"+str(rn))\n",
    "  xn = ui"
   ]
  },
  {
   "cell_type": "code",
   "execution_count": 219,
   "id": "d41c13cd",
   "metadata": {},
   "outputs": [
    {
     "name": "stdout",
     "output_type": "stream",
     "text": [
      "rangos  [6, 9, 10, 10, 6, 12, 13, 11, 7, 16]\n",
      "valores  [1.6, 0.1, 0.0, 0.0, 1.6, 0.4, 0.9, 0.1, 0.9, 3.6]\n",
      "suma  9.200000000000001\n"
     ]
    }
   ],
   "source": [
    "a = 0\n",
    "rango = []\n",
    "def generar(b, a):\n",
    "    b2 = b+0.1\n",
    "    for i in range(len(vector)):\n",
    "        if vector[i] <= b2 and vector[i] >= b:\n",
    "            a+=1\n",
    "    return a\n",
    "\n",
    "for i in range(0,10):\n",
    "    b = i*0.1\n",
    "    rango.append(generar(b,a))\n",
    "\n",
    "\n",
    "valores = []\n",
    "for i in range(0,10):\n",
    "    valores.append(comprobacionChi(rango[i]))\n",
    "    \n",
    "print(\"rangos \",rango)\n",
    "print(\"valores \",valores)\n",
    "print(\"suma \",sumarValores(valores))\n",
    "                   "
   ]
  },
  {
   "cell_type": "code",
   "execution_count": 220,
   "id": "7be7bc2d",
   "metadata": {},
   "outputs": [
    {
     "data": {
      "image/png": "[encoded data removed]",
      "text/plain": [
       "<Figure size 432x288 with 1 Axes>"
      ]
     },
     "metadata": {
      "needs_background": "light"
     },
     "output_type": "display_data"
    }
   ],
   "source": [
    "import matplotlib.pyplot as plt\n",
    "import numpy as np\n",
    "\n",
    "x = np.arange(0,10)\n",
    "y = rango\n",
    "\n",
    "plt.bar(x,y)\n",
    "plt.xlabel('x')\n",
    "plt.ylabel('y')\n",
    "plt.title('Numeros Aleatorios')\n",
    "plt.show()"
   ]
  },
  {
   "cell_type": "code",
   "execution_count": 212,
   "id": "b3b79de4",
   "metadata": {},
   "outputs": [
    {
     "name": "stdout",
     "output_type": "stream",
     "text": [
      "Ingrese la semilla: 7\n",
      "Ingrese el valor a: 74731897457\n",
      "Ingrese el valor b: 37747318974\n",
      "Ingrese el valor m: 19\n",
      "Ingrese el numero de iteraciones: 100\n",
      "It. \t Xn \t Ui\n",
      "0\t17\t0.8947368421052632\n",
      "1\t16\t0.8421052631578947\n",
      "2\t18\t0.9473684210526315\n",
      "3\t14\t0.7368421052631579\n",
      "4\t3\t0.15789473684210525\n",
      "5\t6\t0.3157894736842105\n",
      "6\t0\t0.0\n",
      "7\t12\t0.631578947368421\n",
      "8\t7\t0.3684210526315789\n",
      "9\t17\t0.8947368421052632\n",
      "10\t16\t0.8421052631578947\n",
      "11\t18\t0.9473684210526315\n",
      "12\t14\t0.7368421052631579\n",
      "13\t3\t0.15789473684210525\n",
      "14\t6\t0.3157894736842105\n",
      "15\t0\t0.0\n",
      "16\t12\t0.631578947368421\n",
      "17\t7\t0.3684210526315789\n",
      "18\t17\t0.8947368421052632\n",
      "19\t16\t0.8421052631578947\n",
      "20\t18\t0.9473684210526315\n",
      "21\t14\t0.7368421052631579\n",
      "22\t3\t0.15789473684210525\n",
      "23\t6\t0.3157894736842105\n",
      "24\t0\t0.0\n",
      "25\t12\t0.631578947368421\n",
      "26\t7\t0.3684210526315789\n",
      "27\t17\t0.8947368421052632\n",
      "28\t16\t0.8421052631578947\n",
      "29\t18\t0.9473684210526315\n",
      "30\t14\t0.7368421052631579\n",
      "31\t3\t0.15789473684210525\n",
      "32\t6\t0.3157894736842105\n",
      "33\t0\t0.0\n",
      "34\t12\t0.631578947368421\n",
      "35\t7\t0.3684210526315789\n",
      "36\t17\t0.8947368421052632\n",
      "37\t16\t0.8421052631578947\n",
      "38\t18\t0.9473684210526315\n",
      "39\t14\t0.7368421052631579\n",
      "40\t3\t0.15789473684210525\n",
      "41\t6\t0.3157894736842105\n",
      "42\t0\t0.0\n",
      "43\t12\t0.631578947368421\n",
      "44\t7\t0.3684210526315789\n",
      "45\t17\t0.8947368421052632\n",
      "46\t16\t0.8421052631578947\n",
      "47\t18\t0.9473684210526315\n",
      "48\t14\t0.7368421052631579\n",
      "49\t3\t0.15789473684210525\n",
      "50\t6\t0.3157894736842105\n",
      "51\t0\t0.0\n",
      "52\t12\t0.631578947368421\n",
      "53\t7\t0.3684210526315789\n",
      "54\t17\t0.8947368421052632\n",
      "55\t16\t0.8421052631578947\n",
      "56\t18\t0.9473684210526315\n",
      "57\t14\t0.7368421052631579\n",
      "58\t3\t0.15789473684210525\n",
      "59\t6\t0.3157894736842105\n",
      "60\t0\t0.0\n",
      "61\t12\t0.631578947368421\n",
      "62\t7\t0.3684210526315789\n",
      "63\t17\t0.8947368421052632\n",
      "64\t16\t0.8421052631578947\n",
      "65\t18\t0.9473684210526315\n",
      "66\t14\t0.7368421052631579\n",
      "67\t3\t0.15789473684210525\n",
      "68\t6\t0.3157894736842105\n",
      "69\t0\t0.0\n",
      "70\t12\t0.631578947368421\n",
      "71\t7\t0.3684210526315789\n",
      "72\t17\t0.8947368421052632\n",
      "73\t16\t0.8421052631578947\n",
      "74\t18\t0.9473684210526315\n",
      "75\t14\t0.7368421052631579\n",
      "76\t3\t0.15789473684210525\n",
      "77\t6\t0.3157894736842105\n",
      "78\t0\t0.0\n",
      "79\t12\t0.631578947368421\n",
      "80\t7\t0.3684210526315789\n",
      "81\t17\t0.8947368421052632\n",
      "82\t16\t0.8421052631578947\n",
      "83\t18\t0.9473684210526315\n",
      "84\t14\t0.7368421052631579\n",
      "85\t3\t0.15789473684210525\n",
      "86\t6\t0.3157894736842105\n",
      "87\t0\t0.0\n",
      "88\t12\t0.631578947368421\n",
      "89\t7\t0.3684210526315789\n",
      "90\t17\t0.8947368421052632\n",
      "91\t16\t0.8421052631578947\n",
      "92\t18\t0.9473684210526315\n",
      "93\t14\t0.7368421052631579\n",
      "94\t3\t0.15789473684210525\n",
      "95\t6\t0.3157894736842105\n",
      "96\t0\t0.0\n",
      "97\t12\t0.631578947368421\n",
      "98\t7\t0.3684210526315789\n",
      "99\t17\t0.8947368421052632\n"
     ]
    }
   ],
   "source": [
    "vector = []\n",
    "xo = int(input(\"Ingrese la semilla: \"))\n",
    "a = int(input(\"Ingrese el valor a: \"))\n",
    "b = int(input(\"Ingrese el valor b: \"))\n",
    "m = int(input(\"Ingrese el valor m: \"))\n",
    "iteraciones = int(input(\"Ingrese el numero de iteraciones: \"))\n",
    "xn = xo\n",
    "print(\"It. \\t Xn \\t Ui\")\n",
    "for i in range(iteraciones):\n",
    "  xnn = (a*xn+b) % m\n",
    "  ui = xnn/m\n",
    "  vector.append(ui)\n",
    "  print(str(i) + \"\\t\"+ str(xnn)+\"\\t\"+str(ui))\n",
    "  xn = xnn"
   ]
  },
  {
   "cell_type": "code",
   "execution_count": 213,
   "id": "f38405e5",
   "metadata": {},
   "outputs": [
    {
     "name": "stdout",
     "output_type": "stream",
     "text": [
      "rangos  [11, 11, 0, 22, 0, 0, 11, 11, 23, 11]\n",
      "valores  [0.1, 0.1, 10.0, 14.4, 10.0, 10.0, 0.1, 0.1, 16.9, 0.1]\n",
      "suma  61.800000000000004\n"
     ]
    }
   ],
   "source": [
    "a = 0\n",
    "rango = []\n",
    "def generar(b, a):\n",
    "    b2 = b+0.1\n",
    "    for i in range(len(vector)):\n",
    "        if vector[i] <= b2 and vector[i] >= b:\n",
    "            a+=1\n",
    "    return a\n",
    "\n",
    "for i in range(0,10):\n",
    "    b = i*0.1\n",
    "    rango.append(generar(b,a))\n",
    "\n",
    "\n",
    "valores = []\n",
    "for i in range(0,10):\n",
    "    valores.append(comprobacionChi(rango[i]))\n",
    "    \n",
    "print(\"rangos \",rango)\n",
    "print(\"valores \",valores)\n",
    "print(\"suma \",sumarValores(valores))"
   ]
  },
  {
   "cell_type": "code",
   "execution_count": 214,
   "id": "93ac5d26",
   "metadata": {},
   "outputs": [
    {
     "data": {
      "image/png": "[encoded data removed]",
      "text/plain": [
       "<Figure size 432x288 with 1 Axes>"
      ]
     },
     "metadata": {
      "needs_background": "light"
     },
     "output_type": "display_data"
    }
   ],
   "source": [
    "import matplotlib.pyplot as plt\n",
    "import numpy as np\n",
    "\n",
    "x = np.arange(0,10)\n",
    "y = rango\n",
    "\n",
    "plt.bar(x,y)\n",
    "plt.xlabel('x')\n",
    "plt.ylabel('y')\n",
    "plt.title('Numeros Aleatorios')\n",
    "plt.show()"
   ]
  },
  {
   "cell_type": "code",
   "execution_count": 233,
   "id": "46b181b7",
   "metadata": {},
   "outputs": [
    {
     "name": "stdout",
     "output_type": "stream",
     "text": [
      "cumple\n",
      "cumple\n"
     ]
    }
   ],
   "source": [
    "def comprobacion(a):\n",
    "    b = 16.91\n",
    "    if a <= b:\n",
    "        print(\"cumple\")\n",
    "    \n",
    "comprobacion (13.20)\n",
    "comprobacion (9.2)\n",
    "comprobacion(61.80)"
   ]
  }
 ],
 "metadata": {
  "kernelspec": {
   "display_name": "Python 3 (ipykernel)",
   "language": "python",
   "name": "python3"
  },
  "language_info": {
   "codemirror_mode": {
    "name": "ipython",
    "version": 3
   },
   "file_extension": ".py",
   "mimetype": "text/x-python",
   "name": "python",
   "nbconvert_exporter": "python",
   "pygments_lexer": "ipython3",
   "version": "3.9.6"
  }
 },
 "nbformat": 4,
 "nbformat_minor": 5
}
